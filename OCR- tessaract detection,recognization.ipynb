{
 "cells": [
  {
   "cell_type": "markdown",
   "metadata": {},
   "source": [
    "# TEXT RECOGNZATION WITH PYTESSERACT"
   ]
  },
  {
   "cell_type": "code",
   "execution_count": 1,
   "metadata": {},
   "outputs": [
    {
     "name": "stdout",
     "output_type": "stream",
     "text": [
      "Requirement already satisfied: pytesseract in c:\\users\\saikrishna pulipati\\new folder\\lib\\site-packages (0.3.0)\n",
      "Requirement already satisfied: Pillow in c:\\users\\saikrishna pulipati\\new folder\\lib\\site-packages (from pytesseract) (6.1.0)\n"
     ]
    }
   ],
   "source": [
    "!pip install pytesseract\n",
    "#!pip install tesseract-ocr\n"
   ]
  },
  {
   "cell_type": "code",
   "execution_count": 7,
   "metadata": {},
   "outputs": [],
   "source": [
    "tess.pytesseract.tesseract_cmd = r'C:\\Program Files\\Tesseract-OCR\\tesseract.exe'   # your path may be different"
   ]
  },
  {
   "cell_type": "code",
   "execution_count": 8,
   "metadata": {},
   "outputs": [
    {
     "data": {
      "text/plain": [
       "'C:\\\\Program Files\\\\Tesseract-OCR\\\\tesseract.exe'"
      ]
     },
     "execution_count": 8,
     "metadata": {},
     "output_type": "execute_result"
    }
   ],
   "source": [
    "tess.pytesseract.tesseract_cmd"
   ]
  },
  {
   "cell_type": "code",
   "execution_count": 9,
   "metadata": {},
   "outputs": [],
   "source": [
    "# METHOD1:\n",
    "\n",
    "import cv2\n",
    "import pytesseract as tess"
   ]
  },
  {
   "cell_type": "code",
   "execution_count": 10,
   "metadata": {},
   "outputs": [
    {
     "data": {
      "text/plain": [
       "['Main Street Restaurant',\n",
       " '6332 Business Drive',\n",
       " 'Suite 528',\n",
       " 'Palo Alto California 94301',\n",
       " '575-1628095',\n",
       " '',\n",
       " 'Fri 04/07/2017 11:36 AM',\n",
       " '',\n",
       " 'Merchant ID: 9hqjxvufdr',\n",
       " 'Terminal ID: (ACY',\n",
       " '',\n",
       " 'Transaction ID: #e6d598ef',\n",
       " 'Type: CREDIT',\n",
       " '',\n",
       " 'PURCHASE',\n",
       " 'Number : AXXXXXXXXXXXOO4 1',\n",
       " 'Entry Mode: Swiped',\n",
       " 'Card Type: DISCOVER',\n",
       " '',\n",
       " 'Response: APPROVED',\n",
       " 'Approval Code: 819543',\n",
       " '',\n",
       " 'Sub Total USD$ 25.23',\n",
       " '',\n",
       " 'pe',\n",
       " '',\n",
       " 'USD$ 29.01',\n",
       " '',\n",
       " 'Thanks for supporting',\n",
       " 'local business!',\n",
       " '',\n",
       " 'THANK YOU']"
      ]
     },
     "execution_count": 10,
     "metadata": {},
     "output_type": "execute_result"
    }
   ],
   "source": [
    "# read image\n",
    "im = cv2.imread('2.jpg')\n",
    "\n",
    "# configurations\n",
    "#config = ('-l eng --oem 1 --psm 3')\n",
    "\n",
    "# pytessercat\n",
    "text = tess.image_to_string(im)\n",
    "\n",
    "# print text\n",
    "text = text.split('\\n')\n",
    "text"
   ]
  },
  {
   "cell_type": "code",
   "execution_count": 11,
   "metadata": {},
   "outputs": [],
   "source": [
    "#METHOD2: \n",
    "\n",
    "\n",
    "import cv2\n",
    "img_cv = cv2.imread('COLOR.jpg')"
   ]
  },
  {
   "cell_type": "code",
   "execution_count": 13,
   "metadata": {},
   "outputs": [
    {
     "name": "stdout",
     "output_type": "stream",
     "text": [
      "ABCDEFGHIJKLMNOPQRSTUVWXYZ\n",
      "abédefghijkimnopqrstuvwxyz\n",
      "12345678690\n",
      "21@8S%4.3()+-«>»\n",
      "\n",
      " \n",
      "\n",
      "alll ac-ecjune.@\n"
     ]
    }
   ],
   "source": [
    "# By default OpenCV stores images in BGR format and since pytesseract assumes RGB format,\n",
    "# we need to convert from BGR to RGB format/mode:\n",
    "\n",
    "img_rgb = cv2.cvtColor(img_cv, cv2.COLOR_BGR2RGB)\n",
    "\n",
    "#print(tess.image_to_string(img_rgb))\n",
    "# OR\n",
    "\n",
    "#img_rgb = Image.frombytes('RGB', img_cv.shape[:2], img_cv, 'raw', 'BGR', 0, 0)\n",
    "#Image.frombuffer('RGB', (width, height), bgr_buf, 'raw', 'BGR', 0, 0)\n",
    "print(tess.image_to_string(img_rgb))"
   ]
  },
  {
   "cell_type": "code",
   "execution_count": 14,
   "metadata": {},
   "outputs": [],
   "source": [
    "#METHOD3:\n",
    "\n",
    "\n",
    "import pytesseract as tess\n",
    "\n",
    "from PIL import Image"
   ]
  },
  {
   "cell_type": "code",
   "execution_count": 15,
   "metadata": {},
   "outputs": [
    {
     "name": "stdout",
     "output_type": "stream",
     "text": [
      "Now you can use OCR\n",
      "on the LINE app too!\n",
      "\n",
      "If you want to change the words in an image into\n",
      "try out the OCR function!\n"
     ]
    }
   ],
   "source": [
    "img1 = Image.open('sai.png')\n",
    "text = tess.image_to_string(img1)\n",
    "print(text)"
   ]
  },
  {
   "cell_type": "markdown",
   "metadata": {},
   "source": [
    "# TEXT DETECTION"
   ]
  },
  {
   "cell_type": "code",
   "execution_count": 16,
   "metadata": {},
   "outputs": [],
   "source": [
    "# preprocessing\n",
    "\n",
    "# gray scale\n",
    "def gray(img):\n",
    "    \n",
    "    img = cv2.cvtColor(img, cv2.COLOR_BGR2GRAY)\n",
    "    cv2.imwrite(r\"sai_gray.jpg\",img)\n",
    "    return img\n",
    "\n",
    "# blur\n",
    "def blur(img) :\n",
    "    img_blur = cv2.GaussianBlur(img,(5,5),0)\n",
    "    cv2.imwrite(r\"sai_blur.jpg\",img)    \n",
    "    return img_blur\n",
    "\n",
    "# threshold\n",
    "def threshold(img):\n",
    "    #pixels with value below 100 are turned black (0) and those with higher value are turned white (255)\n",
    "    img = cv2.threshold(img, 100, 255, cv2.THRESH_OTSU | cv2.THRESH_BINARY)[1]    \n",
    "    cv2.imwrite(r\"sai_threshold.jpg\",img)\n",
    "    return img"
   ]
  },
  {
   "cell_type": "code",
   "execution_count": 17,
   "metadata": {},
   "outputs": [],
   "source": [
    "# Finding contours \n",
    "im_gray = gray(im)\n",
    "im_blur = blur(im_gray)\n",
    "im_thresh = threshold(im_blur)\n",
    "\n",
    "contours, _ = cv2.findContours(im_thresh, cv2.RETR_EXTERNAL, cv2.CHAIN_APPROX_NONE) "
   ]
  },
  {
   "cell_type": "code",
   "execution_count": 18,
   "metadata": {},
   "outputs": [],
   "source": [
    "# text detection\n",
    "\n",
    "def contours_text(orig, img, contours):\n",
    "    for cnt in contours: \n",
    "        x, y, w, h = cv2.boundingRect(cnt) \n",
    "\n",
    "        # Drawing a rectangle on copied image \n",
    "        rect = cv2.rectangle(orig, (x, y), (x + w, y + h), (0, 255, 255), 2) \n",
    "        \n",
    "        cv2.imshow('cnt',rect)\n",
    "        cv2.waitKey()\n",
    "\n",
    "        # Cropping the text block for giving input to OCR \n",
    "        cropped = orig[y:y + h, x:x + w] \n",
    "\n",
    "        # Apply OCR on the cropped image \n",
    "        config = ('-l eng --oem 1 --psm 3')\n",
    "        text = pytesseract.image_to_string(cropped, config=config) \n",
    "\n",
    "        print(text)"
   ]
  },
  {
   "cell_type": "code",
   "execution_count": null,
   "metadata": {},
   "outputs": [],
   "source": []
  }
 ],
 "metadata": {
  "kernelspec": {
   "display_name": "Python 3",
   "language": "python",
   "name": "python3"
  },
  "language_info": {
   "codemirror_mode": {
    "name": "ipython",
    "version": 3
   },
   "file_extension": ".py",
   "mimetype": "text/x-python",
   "name": "python",
   "nbconvert_exporter": "python",
   "pygments_lexer": "ipython3",
   "version": "3.7.3"
  }
 },
 "nbformat": 4,
 "nbformat_minor": 2
}
